{
 "cells": [
  {
   "cell_type": "markdown",
   "metadata": {
    "vscode": {
     "languageId": "plaintext"
    }
   },
   "source": [
    "The initial  template for this code was provided by the professor Giovanni Squillero `<giovanni.squillero@polito.it>`. All copyrights **`(c)`** are reserved to him. \\\n",
    "The original code can be found at [`https://github.com/squillero/computational-intelligence`](https://github.com/squillero/computational-intelligence)  \n"
   ]
  },
  {
   "cell_type": "code",
   "execution_count": 8,
   "metadata": {},
   "outputs": [],
   "source": [
    "import logging\n",
    "from itertools import combinations,permutations\n",
    "from dataclasses import dataclass\n",
    "import pandas as pd\n",
    "import numpy as np\n",
    "import geopy.distance\n",
    "import random\n",
    "import copy\n",
    "from tqdm import tqdm\n",
    "from icecream import ic\n",
    "from matplotlib import pyplot as plt\n",
    "import functools\n",
    "\n",
    "logging.basicConfig(level=logging.DEBUG)"
   ]
  },
  {
   "cell_type": "markdown",
   "metadata": {},
   "source": [
    "## Lab2 - TSP\n",
    "\n"
   ]
  },
  {
   "cell_type": "code",
   "execution_count": 9,
   "metadata": {},
   "outputs": [],
   "source": [
    "cities = pd.read_csv('cities/italy.csv', header=None, names=['name', 'lat', 'lon'])"
   ]
  },
  {
   "cell_type": "code",
   "execution_count": 10,
   "metadata": {},
   "outputs": [],
   "source": [
    "dist_matrix = np.zeros((len(cities), len(cities)))\n",
    "for c1, c2 in combinations(cities.itertuples(), 2):\n",
    "    dist_matrix[c1.Index, c2.Index] = dist_matrix[c2.Index, c1.Index] = geopy.distance.geodesic(\n",
    "        (c1.lat, c1.lon), (c2.lat, c2.lon)\n",
    "    ).km"
   ]
  },
  {
   "cell_type": "code",
   "execution_count": 11,
   "metadata": {},
   "outputs": [],
   "source": [
    "@dataclass #decorator that generates some methods. \n",
    "class Individual:\n",
    "    genome:list[int]\n",
    "    fitness:float=None\n",
    "\n",
    "def counter(fn):\n",
    "    \"\"\"Simple decorator for counting number of calls\"\"\"\n",
    "\n",
    "    @functools.wraps(fn)\n",
    "    def helper(*args, **kargs):\n",
    "        helper.calls += 1\n",
    "        return fn(*args, **kargs)\n",
    "\n",
    "    helper.calls = 0\n",
    "    return helper\n",
    "\n",
    "@counter\n",
    "def fitness(individual:Individual)->int: #cost function to minimize. It calculates the total distance of the path\n",
    "    tot_cost = 0\n",
    "\n",
    "    for c1, c2 in zip(individual.genome, individual.genome[1:]):\n",
    "        tot_cost += dist_matrix[c1, c2]\n",
    "    #add the distance from the last city to the first\n",
    "    tot_cost += dist_matrix[individual.genome[-1], individual.genome[0]] \n",
    "    return tot_cost\n",
    "\n",
    "def create_population(individuals_n:int, cities_n:int)->list[Individual]:\n",
    "    population = []\n",
    "    for _ in range(individuals_n):\n",
    "        genome = list(range(1,cities_n)) #first city is always the same\n",
    "        random.shuffle(genome)\n",
    "        genome=[0]+genome #add the first city\n",
    "        population.append(Individual(genome))\n",
    "        for elem in population:\n",
    "            elem.fitness = fitness(elem)\n",
    "    return population\n",
    "\n",
    "def tournament_parent_selection(population:list[Individual]):\n",
    "    idx1, idx2 = np.random.choice(len(population), size=2, replace=False)\n",
    "    # ic(population[idx1].fitness,population[idx2].fitness)\n",
    "    population.remove(population[idx1] if population[idx1].fitness > population[idx2].fitness else population[idx2])\n",
    "\n",
    "def rank_based_parent_selection(population:list[Individual],n_parents:int)->list[Individual]: #Rank based selection over the population.\n",
    "    population.sort(key=lambda individual: individual.fitness) \n",
    "    ranks = list(range(1, len(population) + 1))  # Rank 1 = best individual\n",
    "    probabilities = [1/r for r in ranks]  #Probabilities are inversely proportional to the rank\n",
    "    #Normalize probabilities\n",
    "    total = sum(probabilities)\n",
    "    probabilities_normalized = [p/total for p in probabilities]\n",
    "    parents = np.random.choice(population, n_parents, p=probabilities_normalized, replace=False) #Select n_parents in a probabilistic way\n",
    "    return list(parents)\n",
    "  \n",
    "\n",
    "def crossover2P_support(parent1:Individual, parent2:Individual)->Individual:\n",
    "    offspring=list()\n",
    "    start=np.random.randint(0,len(cities)-1)\n",
    "    end=np.random.randint(start,len(cities))\n",
    "    sub_path=parent1.genome[start:end]\n",
    "    out_of_sub_path=[x for x in parent2.genome if x not in sub_path]\n",
    "    for i in range(0,len(cities)):\n",
    "        if(i>=start and i<end):\n",
    "            offspring.append(sub_path.pop(0))\n",
    "        else:\n",
    "            offspring.append(out_of_sub_path.pop(0))\n",
    "   \n",
    "    individual=Individual(offspring)\n",
    "    individual.fitness=fitness(individual)\n",
    "    return individual\n",
    "\n",
    "def crossover2P(population:list[Individual])->list[Individual]: #2 Point Crossover over the entire population\n",
    "    offsprings=[] \n",
    "    for i in range(0,len(population),2):\n",
    "        if not i+1==len(population):\n",
    "            parent1,parent2=population[i],population[i+1]\n",
    "            offsprings.append(crossover2P_support(parent1,parent2))\n",
    "            offsprings.append(crossover2P_support(parent2,parent1))\n",
    "   \n",
    "\n",
    "    return offsprings\n",
    "\n",
    "#Currently not used\n",
    "def mutation(population:list[Individual])->list[Individual]: #swap mutation over the entire population\n",
    "    offspring=copy.deepcopy(population)\n",
    "    for i in range (len(population)):\n",
    "        modified_flag=False\n",
    "        for _ in range (len(cities)): #each gene has a probability of being mutated\n",
    "            if np.random.random()<1/len(cities): #mutation rate\n",
    "                idx_city1 = np.random.randint(len(cities))\n",
    "                idx_city2 = np.random.randint(len(cities))\n",
    "                tmp = offspring[i].genome[idx_city1]\n",
    "                offspring[i].genome[idx_city1] = offspring[i].genome[idx_city2]\n",
    "                offspring[i].genome[idx_city2]=tmp\n",
    "                modified_flag=True\n",
    "        if modified_flag:\n",
    "            offspring[i].fitness=fitness(offspring[i])\n",
    "    return offspring\n",
    "\n",
    "def InversionMutation(population:list[Individual])->list[Individual]: #Select a subset of genes and we invert the entire string in the subset.\n",
    "    offspring=copy.deepcopy(population)\n",
    "    for i in range (len(population)):\n",
    "        low,high=random.sample(range(len(population[i].genome)), 2)\n",
    "        if(low<high):\n",
    "            offspring[i].genome[low:high] = reversed(offspring[i].genome[low:high])\n",
    "        else: #Simulate a circular genome\n",
    "            low,high=high,low\n",
    "            cycle = offspring[i].genome[high:] + offspring[i].genome[:low]\n",
    "            cycle = list(reversed(cycle))\n",
    "            offspring[i].genome[high:] = cycle[:len(offspring[i].genome)-high]\n",
    "            offspring[i].genome[:low] = cycle[len(offspring[i].genome)-high:]\n",
    "\n",
    "        offspring[i].fitness=fitness(offspring[i])\n",
    "    return offspring\n",
    "\n",
    "\n",
    "#Currently not used\n",
    "# def PMX_crossover(parent1:Individual, parent2:Individual)->tuple[Individual,Individual]:\n",
    "#     cut_1, cut_2 = sorted(np.random.choice(len(cities), size=2, replace=False))\n",
    "\n",
    "#     offspring1 = [None] * len(cities)\n",
    "#     offspring2 = [None] * len(cities)\n",
    "\n",
    "#     genome_p1 = parent1.genome.copy()[:-1]\n",
    "#     genome_p2 = parent2.genome.copy()[:-1]\n",
    "\n",
    "#     offspring1[cut_1:cut_2] = genome_p2[cut_1:cut_2]\n",
    "#     offspring2[cut_1:cut_2] = genome_p1[cut_1:cut_2]\n",
    "\n",
    "#     boundary_idx = list(range(0,cut_1)) + list(range(cut_2,len(cities)))\n",
    "    \n",
    "#     for i in boundary_idx:\n",
    "#         if genome_p1[i] not in offspring1:\n",
    "#             offspring1[i] = genome_p1[i]\n",
    "#         else:\n",
    "#             tmp = genome_p1[i]\n",
    "#             j = i\n",
    "#             while tmp in offspring1:\n",
    "#                 j = offspring1.index(genome_p1[j])\n",
    "#                 tmp = offspring2[j]\n",
    "#             offspring1[i] = tmp\n",
    "\n",
    "#     for i in boundary_idx:\n",
    "#         if genome_p2[i] not in offspring2:\n",
    "#             offspring2[i] = genome_p2[i]\n",
    "#         else:\n",
    "#             tmp = genome_p2[i]\n",
    "#             j = i\n",
    "#             while tmp in offspring2:\n",
    "#                 j = offspring2.index(genome_p2[j])\n",
    "#                 tmp = offspring1[j]\n",
    "#             offspring2[i] = tmp\n",
    "    \n",
    "#     offspring1 = [gene for gene in offspring1 if gene is not None]\n",
    "#     offspring2 = [gene for gene in offspring2 if gene is not None]\n",
    "#     offspring1.append(offspring1[0])\n",
    "#     offspring2.append(offspring2[0])\n",
    "#     return Individual(offspring1), Individual(offspring2)"
   ]
  },
  {
   "cell_type": "markdown",
   "metadata": {},
   "source": [
    "### Greedy algorithm\n",
    "Simple greedy algorithm for a fast solution to the TSP problem. The algorithm starts from a random city and then moves to the nearest city. Repeats until all cities are visited."
   ]
  },
  {
   "cell_type": "code",
   "execution_count": 12,
   "metadata": {},
   "outputs": [],
   "source": [
    "def greedy_algorithm()->Individual:\n",
    "\n",
    "    visited = np.full(len(cities), False)\n",
    "    dist = dist_matrix.copy()\n",
    "    city = 0\n",
    "    visited[city] = True\n",
    "    tsp = list()\n",
    "    tsp.append(int(city))\n",
    "    while not np.all(visited):\n",
    "        dist[:, city] = np.inf\n",
    "        closest = np.argmin(dist[city])\n",
    "        \n",
    "        visited[closest] = True\n",
    "        city = closest\n",
    "        tsp.append(int(city))\n",
    "    return Individual(tsp)\n"
   ]
  },
  {
   "cell_type": "code",
   "execution_count": 13,
   "metadata": {},
   "outputs": [
    {
     "data": {
      "text/plain": [
       "np.float64(4436.03176952516)"
      ]
     },
     "execution_count": 13,
     "metadata": {},
     "output_type": "execute_result"
    }
   ],
   "source": [
    "e = greedy_algorithm()\n",
    "fitness(e)"
   ]
  },
  {
   "cell_type": "markdown",
   "metadata": {},
   "source": [
    "### Evolutionary Algorithm\n",
    "Slow algorithm with parent selection based on ranks and dynamics operator (from hyper-modern GA): 2 points crossover + inversion mutation. Population is composed by the best (selected) individuals among parents and child (mu + lambda)."
   ]
  },
  {
   "cell_type": "code",
   "execution_count": 14,
   "metadata": {},
   "outputs": [
    {
     "name": "stderr",
     "output_type": "stream",
     "text": [
      "100%|██████████| 10000/10000 [00:10<00:00, 959.85it/s]\n",
      "ic| best_sol.fitness: np.float64(4172.762613916409)\n",
      "    best_sol_index: 6246\n",
      "    fitness.calls: 505052\n"
     ]
    },
    {
     "data": {
      "image/png": "[encoded data removed]",
      "text/plain": [
       "<Figure size 640x480 with 1 Axes>"
      ]
     },
     "metadata": {},
     "output_type": "display_data"
    }
   ],
   "source": [
    "\n",
    "take_over=True #Set to False for testing\n",
    "POPULATION_SIZE = 100 \n",
    "population=create_population(POPULATION_SIZE, len(cities))\n",
    "start=greedy_algorithm()\n",
    "start.fitness=fitness(start)\n",
    "start.genome=start.genome\n",
    "population.append(start)\n",
    "best_sol=population[0]\n",
    "best_sol_index=0\n",
    "history=[]\n",
    "# population.sort(key=lambda i: i.fitness)\n",
    "# ic(\"Initial population:\",population)\n",
    "for step in tqdm(range(10_000)):\n",
    "    parents=rank_based_parent_selection(population,(POPULATION_SIZE+1)//2) #Half of the population is selected as parents\n",
    "    # for _ in OFFSPRING_SIZE:\n",
    "    if np.random.random()<0.2: #Random operator selection \n",
    "        offspring = crossover2P(parents)\n",
    "        # population.extend(offspring)\n",
    "    else:\n",
    "        offspring=InversionMutation(parents) \n",
    "        # population.extend(offspring)\n",
    "    population=parents+offspring # μ + λ selection\n",
    "    \n",
    "    population.sort(key=lambda i: i.fitness)\n",
    "    population = population[:POPULATION_SIZE]\n",
    "    \n",
    "    #just for testing:\n",
    "    if not take_over:\n",
    "        take_over = all([population[0].genome == e.genome for e in population])\n",
    "        if take_over:\n",
    "            ic(\"Take over after\",step,population[0].fitness)\n",
    "\n",
    "    if(best_sol.fitness>population[0].fitness):\n",
    "        best_sol=population[0]\n",
    "        best_sol_index=step\n",
    "    history.append(best_sol.fitness)\n",
    "    # ic(\"After sorting:\",population)\n",
    "ic(best_sol.fitness,best_sol_index,fitness.calls)\n",
    "\n",
    "\n",
    "#Plotting graph of the best solutions over time\n",
    "plt.plot(history)\n",
    "plt.ylabel('Best solution\\'s fitness') \n",
    "plt.xlabel('Generation')\n",
    "plt.show()\n"
   ]
  }
 ],
 "metadata": {
  "kernelspec": {
   "display_name": "my_virtual_env",
   "language": "python",
   "name": "python3"
  },
  "language_info": {
   "codemirror_mode": {
    "name": "ipython",
    "version": 3
   },
   "file_extension": ".py",
   "mimetype": "text/x-python",
   "name": "python",
   "nbconvert_exporter": "python",
   "pygments_lexer": "ipython3",
   "version": "3.12.3"
  }
 },
 "nbformat": 4,
 "nbformat_minor": 2
}
